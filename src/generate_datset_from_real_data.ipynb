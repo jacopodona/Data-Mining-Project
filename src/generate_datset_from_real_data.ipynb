{
 "cells": [
  {
   "cell_type": "code",
   "execution_count": 60,
   "metadata": {
    "collapsed": true
   },
   "outputs": [],
   "source": [
    "import polars as pl\n",
    "import os\n",
    "import pandas as pd\n",
    "\n",
    "\n",
    "DATASET_DIR = \"../data/the movies dataset\""
   ]
  },
  {
   "cell_type": "code",
   "execution_count": 61,
   "outputs": [],
   "source": [
    "keywords = pd.read_csv(os.path.join(DATASET_DIR, \"keywords.csv\"))\n",
    "links = pd.read_csv(os.path.join(DATASET_DIR, \"links.csv\"))\n",
    "movies_meta = pd.read_csv(os.path.join(DATASET_DIR, \"movies_metadata.csv\"),\n",
    "                          low_memory=False)\n",
    "ratings = pd.read_csv(os.path.join(DATASET_DIR, \"ratings_small.csv\"))"
   ],
   "metadata": {
    "collapsed": false
   }
  },
  {
   "cell_type": "code",
   "execution_count": 71,
   "outputs": [
    {
     "data": {
      "text/plain": "           id                                           keywords\n0         862  [{'id': 931, 'name': 'jealousy'}, {'id': 4290,...\n1        8844  [{'id': 10090, 'name': 'board game'}, {'id': 1...\n2       15602  [{'id': 1495, 'name': 'fishing'}, {'id': 12392...\n3       31357  [{'id': 818, 'name': 'based on novel'}, {'id':...\n4       11862  [{'id': 1009, 'name': 'baby'}, {'id': 1599, 'n...\n...       ...                                                ...\n46414  439050             [{'id': 10703, 'name': 'tragic love'}]\n46415  111109  [{'id': 2679, 'name': 'artist'}, {'id': 14531,...\n46416   67758                                                 []\n46417  227506                                                 []\n46418  461257                                                 []\n\n[46419 rows x 2 columns]",
      "text/html": "<div>\n<style scoped>\n    .dataframe tbody tr th:only-of-type {\n        vertical-align: middle;\n    }\n\n    .dataframe tbody tr th {\n        vertical-align: top;\n    }\n\n    .dataframe thead th {\n        text-align: right;\n    }\n</style>\n<table border=\"1\" class=\"dataframe\">\n  <thead>\n    <tr style=\"text-align: right;\">\n      <th></th>\n      <th>id</th>\n      <th>keywords</th>\n    </tr>\n  </thead>\n  <tbody>\n    <tr>\n      <th>0</th>\n      <td>862</td>\n      <td>[{'id': 931, 'name': 'jealousy'}, {'id': 4290,...</td>\n    </tr>\n    <tr>\n      <th>1</th>\n      <td>8844</td>\n      <td>[{'id': 10090, 'name': 'board game'}, {'id': 1...</td>\n    </tr>\n    <tr>\n      <th>2</th>\n      <td>15602</td>\n      <td>[{'id': 1495, 'name': 'fishing'}, {'id': 12392...</td>\n    </tr>\n    <tr>\n      <th>3</th>\n      <td>31357</td>\n      <td>[{'id': 818, 'name': 'based on novel'}, {'id':...</td>\n    </tr>\n    <tr>\n      <th>4</th>\n      <td>11862</td>\n      <td>[{'id': 1009, 'name': 'baby'}, {'id': 1599, 'n...</td>\n    </tr>\n    <tr>\n      <th>...</th>\n      <td>...</td>\n      <td>...</td>\n    </tr>\n    <tr>\n      <th>46414</th>\n      <td>439050</td>\n      <td>[{'id': 10703, 'name': 'tragic love'}]</td>\n    </tr>\n    <tr>\n      <th>46415</th>\n      <td>111109</td>\n      <td>[{'id': 2679, 'name': 'artist'}, {'id': 14531,...</td>\n    </tr>\n    <tr>\n      <th>46416</th>\n      <td>67758</td>\n      <td>[]</td>\n    </tr>\n    <tr>\n      <th>46417</th>\n      <td>227506</td>\n      <td>[]</td>\n    </tr>\n    <tr>\n      <th>46418</th>\n      <td>461257</td>\n      <td>[]</td>\n    </tr>\n  </tbody>\n</table>\n<p>46419 rows × 2 columns</p>\n</div>"
     },
     "execution_count": 71,
     "metadata": {},
     "output_type": "execute_result"
    }
   ],
   "source": [
    "keywords"
   ],
   "metadata": {
    "collapsed": false
   }
  },
  {
   "cell_type": "code",
   "execution_count": 64,
   "outputs": [
    {
     "data": {
      "text/plain": "   movieId  imdbId   tmdbId\n0        1  114709    862.0\n1        2  113497   8844.0\n2        3  113228  15602.0\n3        4  114885  31357.0\n4        5  113041  11862.0",
      "text/html": "<div>\n<style scoped>\n    .dataframe tbody tr th:only-of-type {\n        vertical-align: middle;\n    }\n\n    .dataframe tbody tr th {\n        vertical-align: top;\n    }\n\n    .dataframe thead th {\n        text-align: right;\n    }\n</style>\n<table border=\"1\" class=\"dataframe\">\n  <thead>\n    <tr style=\"text-align: right;\">\n      <th></th>\n      <th>movieId</th>\n      <th>imdbId</th>\n      <th>tmdbId</th>\n    </tr>\n  </thead>\n  <tbody>\n    <tr>\n      <th>0</th>\n      <td>1</td>\n      <td>114709</td>\n      <td>862.0</td>\n    </tr>\n    <tr>\n      <th>1</th>\n      <td>2</td>\n      <td>113497</td>\n      <td>8844.0</td>\n    </tr>\n    <tr>\n      <th>2</th>\n      <td>3</td>\n      <td>113228</td>\n      <td>15602.0</td>\n    </tr>\n    <tr>\n      <th>3</th>\n      <td>4</td>\n      <td>114885</td>\n      <td>31357.0</td>\n    </tr>\n    <tr>\n      <th>4</th>\n      <td>5</td>\n      <td>113041</td>\n      <td>11862.0</td>\n    </tr>\n  </tbody>\n</table>\n</div>"
     },
     "execution_count": 64,
     "metadata": {},
     "output_type": "execute_result"
    }
   ],
   "source": [
    "links.head()"
   ],
   "metadata": {
    "collapsed": false
   }
  },
  {
   "cell_type": "code",
   "execution_count": 67,
   "outputs": [
    {
     "data": {
      "text/plain": "   userId  movieId  rating   timestamp\n0       1       31     2.5  1260759144\n1       1     1029     3.0  1260759179\n2       1     1061     3.0  1260759182\n3       1     1129     2.0  1260759185\n4       1     1172     4.0  1260759205",
      "text/html": "<div>\n<style scoped>\n    .dataframe tbody tr th:only-of-type {\n        vertical-align: middle;\n    }\n\n    .dataframe tbody tr th {\n        vertical-align: top;\n    }\n\n    .dataframe thead th {\n        text-align: right;\n    }\n</style>\n<table border=\"1\" class=\"dataframe\">\n  <thead>\n    <tr style=\"text-align: right;\">\n      <th></th>\n      <th>userId</th>\n      <th>movieId</th>\n      <th>rating</th>\n      <th>timestamp</th>\n    </tr>\n  </thead>\n  <tbody>\n    <tr>\n      <th>0</th>\n      <td>1</td>\n      <td>31</td>\n      <td>2.5</td>\n      <td>1260759144</td>\n    </tr>\n    <tr>\n      <th>1</th>\n      <td>1</td>\n      <td>1029</td>\n      <td>3.0</td>\n      <td>1260759179</td>\n    </tr>\n    <tr>\n      <th>2</th>\n      <td>1</td>\n      <td>1061</td>\n      <td>3.0</td>\n      <td>1260759182</td>\n    </tr>\n    <tr>\n      <th>3</th>\n      <td>1</td>\n      <td>1129</td>\n      <td>2.0</td>\n      <td>1260759185</td>\n    </tr>\n    <tr>\n      <th>4</th>\n      <td>1</td>\n      <td>1172</td>\n      <td>4.0</td>\n      <td>1260759205</td>\n    </tr>\n  </tbody>\n</table>\n</div>"
     },
     "execution_count": 67,
     "metadata": {},
     "output_type": "execute_result"
    }
   ],
   "source": [
    "ratings.head()"
   ],
   "metadata": {
    "collapsed": false
   }
  },
  {
   "cell_type": "code",
   "execution_count": 72,
   "outputs": [],
   "source": [
    "keywords = keywords[keywords[\"keywords\"] != \"[]\"]"
   ],
   "metadata": {
    "collapsed": false
   }
  },
  {
   "cell_type": "code",
   "execution_count": 123,
   "outputs": [],
   "source": [
    "user_ids = list(map(lambda x: \"user\"+str(x), ratings.userId.unique()))"
   ],
   "metadata": {
    "collapsed": false
   }
  },
  {
   "cell_type": "code",
   "execution_count": 124,
   "outputs": [],
   "source": [
    "movie_ids = list(map(lambda x: \"Q\"+str(x), ratings.movieId.unique()))"
   ],
   "metadata": {
    "collapsed": false
   }
  },
  {
   "cell_type": "code",
   "execution_count": 125,
   "outputs": [
    {
     "data": {
      "text/plain": "['user1',\n 'user2',\n 'user3',\n 'user4',\n 'user5',\n 'user6',\n 'user7',\n 'user8',\n 'user9',\n 'user10',\n 'user11',\n 'user12',\n 'user13',\n 'user14',\n 'user15',\n 'user16',\n 'user17',\n 'user18',\n 'user19',\n 'user20',\n 'user21',\n 'user22',\n 'user23',\n 'user24',\n 'user25',\n 'user26',\n 'user27',\n 'user28',\n 'user29',\n 'user30',\n 'user31',\n 'user32',\n 'user33',\n 'user34',\n 'user35',\n 'user36',\n 'user37',\n 'user38',\n 'user39',\n 'user40',\n 'user41',\n 'user42',\n 'user43',\n 'user44',\n 'user45',\n 'user46',\n 'user47',\n 'user48',\n 'user49',\n 'user50',\n 'user51',\n 'user52',\n 'user53',\n 'user54',\n 'user55',\n 'user56',\n 'user57',\n 'user58',\n 'user59',\n 'user60',\n 'user61',\n 'user62',\n 'user63',\n 'user64',\n 'user65',\n 'user66',\n 'user67',\n 'user68',\n 'user69',\n 'user70',\n 'user71',\n 'user72',\n 'user73',\n 'user74',\n 'user75',\n 'user76',\n 'user77',\n 'user78',\n 'user79',\n 'user80',\n 'user81',\n 'user82',\n 'user83',\n 'user84',\n 'user85',\n 'user86',\n 'user87',\n 'user88',\n 'user89',\n 'user90',\n 'user91',\n 'user92',\n 'user93',\n 'user94',\n 'user95',\n 'user96',\n 'user97',\n 'user98',\n 'user99',\n 'user100',\n 'user101',\n 'user102',\n 'user103',\n 'user104',\n 'user105',\n 'user106',\n 'user107',\n 'user108',\n 'user109',\n 'user110',\n 'user111',\n 'user112',\n 'user113',\n 'user114',\n 'user115',\n 'user116',\n 'user117',\n 'user118',\n 'user119',\n 'user120',\n 'user121',\n 'user122',\n 'user123',\n 'user124',\n 'user125',\n 'user126',\n 'user127',\n 'user128',\n 'user129',\n 'user130',\n 'user131',\n 'user132',\n 'user133',\n 'user134',\n 'user135',\n 'user136',\n 'user137',\n 'user138',\n 'user139',\n 'user140',\n 'user141',\n 'user142',\n 'user143',\n 'user144',\n 'user145',\n 'user146',\n 'user147',\n 'user148',\n 'user149',\n 'user150',\n 'user151',\n 'user152',\n 'user153',\n 'user154',\n 'user155',\n 'user156',\n 'user157',\n 'user158',\n 'user159',\n 'user160',\n 'user161',\n 'user162',\n 'user163',\n 'user164',\n 'user165',\n 'user166',\n 'user167',\n 'user168',\n 'user169',\n 'user170',\n 'user171',\n 'user172',\n 'user173',\n 'user174',\n 'user175',\n 'user176',\n 'user177',\n 'user178',\n 'user179',\n 'user180',\n 'user181',\n 'user182',\n 'user183',\n 'user184',\n 'user185',\n 'user186',\n 'user187',\n 'user188',\n 'user189',\n 'user190',\n 'user191',\n 'user192',\n 'user193',\n 'user194',\n 'user195',\n 'user196',\n 'user197',\n 'user198',\n 'user199',\n 'user200',\n 'user201',\n 'user202',\n 'user203',\n 'user204',\n 'user205',\n 'user206',\n 'user207',\n 'user208',\n 'user209',\n 'user210',\n 'user211',\n 'user212',\n 'user213',\n 'user214',\n 'user215',\n 'user216',\n 'user217',\n 'user218',\n 'user219',\n 'user220',\n 'user221',\n 'user222',\n 'user223',\n 'user224',\n 'user225',\n 'user226',\n 'user227',\n 'user228',\n 'user229',\n 'user230',\n 'user231',\n 'user232',\n 'user233',\n 'user234',\n 'user235',\n 'user236',\n 'user237',\n 'user238',\n 'user239',\n 'user240',\n 'user241',\n 'user242',\n 'user243',\n 'user244',\n 'user245',\n 'user246',\n 'user247',\n 'user248',\n 'user249',\n 'user250',\n 'user251',\n 'user252',\n 'user253',\n 'user254',\n 'user255',\n 'user256',\n 'user257',\n 'user258',\n 'user259',\n 'user260',\n 'user261',\n 'user262',\n 'user263',\n 'user264',\n 'user265',\n 'user266',\n 'user267',\n 'user268',\n 'user269',\n 'user270',\n 'user271',\n 'user272',\n 'user273',\n 'user274',\n 'user275',\n 'user276',\n 'user277',\n 'user278',\n 'user279',\n 'user280',\n 'user281',\n 'user282',\n 'user283',\n 'user284',\n 'user285',\n 'user286',\n 'user287',\n 'user288',\n 'user289',\n 'user290',\n 'user291',\n 'user292',\n 'user293',\n 'user294',\n 'user295',\n 'user296',\n 'user297',\n 'user298',\n 'user299',\n 'user300',\n 'user301',\n 'user302',\n 'user303',\n 'user304',\n 'user305',\n 'user306',\n 'user307',\n 'user308',\n 'user309',\n 'user310',\n 'user311',\n 'user312',\n 'user313',\n 'user314',\n 'user315',\n 'user316',\n 'user317',\n 'user318',\n 'user319',\n 'user320',\n 'user321',\n 'user322',\n 'user323',\n 'user324',\n 'user325',\n 'user326',\n 'user327',\n 'user328',\n 'user329',\n 'user330',\n 'user331',\n 'user332',\n 'user333',\n 'user334',\n 'user335',\n 'user336',\n 'user337',\n 'user338',\n 'user339',\n 'user340',\n 'user341',\n 'user342',\n 'user343',\n 'user344',\n 'user345',\n 'user346',\n 'user347',\n 'user348',\n 'user349',\n 'user350',\n 'user351',\n 'user352',\n 'user353',\n 'user354',\n 'user355',\n 'user356',\n 'user357',\n 'user358',\n 'user359',\n 'user360',\n 'user361',\n 'user362',\n 'user363',\n 'user364',\n 'user365',\n 'user366',\n 'user367',\n 'user368',\n 'user369',\n 'user370',\n 'user371',\n 'user372',\n 'user373',\n 'user374',\n 'user375',\n 'user376',\n 'user377',\n 'user378',\n 'user379',\n 'user380',\n 'user381',\n 'user382',\n 'user383',\n 'user384',\n 'user385',\n 'user386',\n 'user387',\n 'user388',\n 'user389',\n 'user390',\n 'user391',\n 'user392',\n 'user393',\n 'user394',\n 'user395',\n 'user396',\n 'user397',\n 'user398',\n 'user399',\n 'user400',\n 'user401',\n 'user402',\n 'user403',\n 'user404',\n 'user405',\n 'user406',\n 'user407',\n 'user408',\n 'user409',\n 'user410',\n 'user411',\n 'user412',\n 'user413',\n 'user414',\n 'user415',\n 'user416',\n 'user417',\n 'user418',\n 'user419',\n 'user420',\n 'user421',\n 'user422',\n 'user423',\n 'user424',\n 'user425',\n 'user426',\n 'user427',\n 'user428',\n 'user429',\n 'user430',\n 'user431',\n 'user432',\n 'user433',\n 'user434',\n 'user435',\n 'user436',\n 'user437',\n 'user438',\n 'user439',\n 'user440',\n 'user441',\n 'user442',\n 'user443',\n 'user444',\n 'user445',\n 'user446',\n 'user447',\n 'user448',\n 'user449',\n 'user450',\n 'user451',\n 'user452',\n 'user453',\n 'user454',\n 'user455',\n 'user456',\n 'user457',\n 'user458',\n 'user459',\n 'user460',\n 'user461',\n 'user462',\n 'user463',\n 'user464',\n 'user465',\n 'user466',\n 'user467',\n 'user468',\n 'user469',\n 'user470',\n 'user471',\n 'user472',\n 'user473',\n 'user474',\n 'user475',\n 'user476',\n 'user477',\n 'user478',\n 'user479',\n 'user480',\n 'user481',\n 'user482',\n 'user483',\n 'user484',\n 'user485',\n 'user486',\n 'user487',\n 'user488',\n 'user489',\n 'user490',\n 'user491',\n 'user492',\n 'user493',\n 'user494',\n 'user495',\n 'user496',\n 'user497',\n 'user498',\n 'user499',\n 'user500',\n 'user501',\n 'user502',\n 'user503',\n 'user504',\n 'user505',\n 'user506',\n 'user507',\n 'user508',\n 'user509',\n 'user510',\n 'user511',\n 'user512',\n 'user513',\n 'user514',\n 'user515',\n 'user516',\n 'user517',\n 'user518',\n 'user519',\n 'user520',\n 'user521',\n 'user522',\n 'user523',\n 'user524',\n 'user525',\n 'user526',\n 'user527',\n 'user528',\n 'user529',\n 'user530',\n 'user531',\n 'user532',\n 'user533',\n 'user534',\n 'user535',\n 'user536',\n 'user537',\n 'user538',\n 'user539',\n 'user540',\n 'user541',\n 'user542',\n 'user543',\n 'user544',\n 'user545',\n 'user546',\n 'user547',\n 'user548',\n 'user549',\n 'user550',\n 'user551',\n 'user552',\n 'user553',\n 'user554',\n 'user555',\n 'user556',\n 'user557',\n 'user558',\n 'user559',\n 'user560',\n 'user561',\n 'user562',\n 'user563',\n 'user564',\n 'user565',\n 'user566',\n 'user567',\n 'user568',\n 'user569',\n 'user570',\n 'user571',\n 'user572',\n 'user573',\n 'user574',\n 'user575',\n 'user576',\n 'user577',\n 'user578',\n 'user579',\n 'user580',\n 'user581',\n 'user582',\n 'user583',\n 'user584',\n 'user585',\n 'user586',\n 'user587',\n 'user588',\n 'user589',\n 'user590',\n 'user591',\n 'user592',\n 'user593',\n 'user594',\n 'user595',\n 'user596',\n 'user597',\n 'user598',\n 'user599',\n 'user600',\n 'user601',\n 'user602',\n 'user603',\n 'user604',\n 'user605',\n 'user606',\n 'user607',\n 'user608',\n 'user609',\n 'user610',\n 'user611',\n 'user612',\n 'user613',\n 'user614',\n 'user615',\n 'user616',\n 'user617',\n 'user618',\n 'user619',\n 'user620',\n 'user621',\n 'user622',\n 'user623',\n 'user624',\n 'user625',\n 'user626',\n 'user627',\n 'user628',\n 'user629',\n 'user630',\n 'user631',\n 'user632',\n 'user633',\n 'user634',\n 'user635',\n 'user636',\n 'user637',\n 'user638',\n 'user639',\n 'user640',\n 'user641',\n 'user642',\n 'user643',\n 'user644',\n 'user645',\n 'user646',\n 'user647',\n 'user648',\n 'user649',\n 'user650',\n 'user651',\n 'user652',\n 'user653',\n 'user654',\n 'user655',\n 'user656',\n 'user657',\n 'user658',\n 'user659',\n 'user660',\n 'user661',\n 'user662',\n 'user663',\n 'user664',\n 'user665',\n 'user666',\n 'user667',\n 'user668',\n 'user669',\n 'user670',\n 'user671']"
     },
     "execution_count": 125,
     "metadata": {},
     "output_type": "execute_result"
    }
   ],
   "source": [
    "user_ids"
   ],
   "metadata": {
    "collapsed": false
   }
  },
  {
   "cell_type": "code",
   "execution_count": 126,
   "outputs": [
    {
     "data": {
      "text/plain": "         Q31 Q1029 Q1061 Q1129 Q1172 Q1263 Q1287 Q1293 Q1339 Q1343  ...  \\\nuser1    NaN   NaN   NaN   NaN   NaN   NaN   NaN   NaN   NaN   NaN  ...   \nuser2    NaN   NaN   NaN   NaN   NaN   NaN   NaN   NaN   NaN   NaN  ...   \nuser3    NaN   NaN   NaN   NaN   NaN   NaN   NaN   NaN   NaN   NaN  ...   \nuser4    NaN   NaN   NaN   NaN   NaN   NaN   NaN   NaN   NaN   NaN  ...   \nuser5    NaN   NaN   NaN   NaN   NaN   NaN   NaN   NaN   NaN   NaN  ...   \n...      ...   ...   ...   ...   ...   ...   ...   ...   ...   ...  ...   \nuser667  NaN   NaN   NaN   NaN   NaN   NaN   NaN   NaN   NaN   NaN  ...   \nuser668  NaN   NaN   NaN   NaN   NaN   NaN   NaN   NaN   NaN   NaN  ...   \nuser669  NaN   NaN   NaN   NaN   NaN   NaN   NaN   NaN   NaN   NaN  ...   \nuser670  NaN   NaN   NaN   NaN   NaN   NaN   NaN   NaN   NaN   NaN  ...   \nuser671  NaN   NaN   NaN   NaN   NaN   NaN   NaN   NaN   NaN   NaN  ...   \n\n        Q134528 Q134783 Q137595 Q138204 Q60832 Q64997 Q72380 Q129 Q4736 Q6425  \nuser1       NaN     NaN     NaN     NaN    NaN    NaN    NaN  NaN   NaN   NaN  \nuser2       NaN     NaN     NaN     NaN    NaN    NaN    NaN  NaN   NaN   NaN  \nuser3       NaN     NaN     NaN     NaN    NaN    NaN    NaN  NaN   NaN   NaN  \nuser4       NaN     NaN     NaN     NaN    NaN    NaN    NaN  NaN   NaN   NaN  \nuser5       NaN     NaN     NaN     NaN    NaN    NaN    NaN  NaN   NaN   NaN  \n...         ...     ...     ...     ...    ...    ...    ...  ...   ...   ...  \nuser667     NaN     NaN     NaN     NaN    NaN    NaN    NaN  NaN   NaN   NaN  \nuser668     NaN     NaN     NaN     NaN    NaN    NaN    NaN  NaN   NaN   NaN  \nuser669     NaN     NaN     NaN     NaN    NaN    NaN    NaN  NaN   NaN   NaN  \nuser670     NaN     NaN     NaN     NaN    NaN    NaN    NaN  NaN   NaN   NaN  \nuser671     NaN     NaN     NaN     NaN    NaN    NaN    NaN  NaN   NaN   NaN  \n\n[671 rows x 9066 columns]",
      "text/html": "<div>\n<style scoped>\n    .dataframe tbody tr th:only-of-type {\n        vertical-align: middle;\n    }\n\n    .dataframe tbody tr th {\n        vertical-align: top;\n    }\n\n    .dataframe thead th {\n        text-align: right;\n    }\n</style>\n<table border=\"1\" class=\"dataframe\">\n  <thead>\n    <tr style=\"text-align: right;\">\n      <th></th>\n      <th>Q31</th>\n      <th>Q1029</th>\n      <th>Q1061</th>\n      <th>Q1129</th>\n      <th>Q1172</th>\n      <th>Q1263</th>\n      <th>Q1287</th>\n      <th>Q1293</th>\n      <th>Q1339</th>\n      <th>Q1343</th>\n      <th>...</th>\n      <th>Q134528</th>\n      <th>Q134783</th>\n      <th>Q137595</th>\n      <th>Q138204</th>\n      <th>Q60832</th>\n      <th>Q64997</th>\n      <th>Q72380</th>\n      <th>Q129</th>\n      <th>Q4736</th>\n      <th>Q6425</th>\n    </tr>\n  </thead>\n  <tbody>\n    <tr>\n      <th>user1</th>\n      <td>NaN</td>\n      <td>NaN</td>\n      <td>NaN</td>\n      <td>NaN</td>\n      <td>NaN</td>\n      <td>NaN</td>\n      <td>NaN</td>\n      <td>NaN</td>\n      <td>NaN</td>\n      <td>NaN</td>\n      <td>...</td>\n      <td>NaN</td>\n      <td>NaN</td>\n      <td>NaN</td>\n      <td>NaN</td>\n      <td>NaN</td>\n      <td>NaN</td>\n      <td>NaN</td>\n      <td>NaN</td>\n      <td>NaN</td>\n      <td>NaN</td>\n    </tr>\n    <tr>\n      <th>user2</th>\n      <td>NaN</td>\n      <td>NaN</td>\n      <td>NaN</td>\n      <td>NaN</td>\n      <td>NaN</td>\n      <td>NaN</td>\n      <td>NaN</td>\n      <td>NaN</td>\n      <td>NaN</td>\n      <td>NaN</td>\n      <td>...</td>\n      <td>NaN</td>\n      <td>NaN</td>\n      <td>NaN</td>\n      <td>NaN</td>\n      <td>NaN</td>\n      <td>NaN</td>\n      <td>NaN</td>\n      <td>NaN</td>\n      <td>NaN</td>\n      <td>NaN</td>\n    </tr>\n    <tr>\n      <th>user3</th>\n      <td>NaN</td>\n      <td>NaN</td>\n      <td>NaN</td>\n      <td>NaN</td>\n      <td>NaN</td>\n      <td>NaN</td>\n      <td>NaN</td>\n      <td>NaN</td>\n      <td>NaN</td>\n      <td>NaN</td>\n      <td>...</td>\n      <td>NaN</td>\n      <td>NaN</td>\n      <td>NaN</td>\n      <td>NaN</td>\n      <td>NaN</td>\n      <td>NaN</td>\n      <td>NaN</td>\n      <td>NaN</td>\n      <td>NaN</td>\n      <td>NaN</td>\n    </tr>\n    <tr>\n      <th>user4</th>\n      <td>NaN</td>\n      <td>NaN</td>\n      <td>NaN</td>\n      <td>NaN</td>\n      <td>NaN</td>\n      <td>NaN</td>\n      <td>NaN</td>\n      <td>NaN</td>\n      <td>NaN</td>\n      <td>NaN</td>\n      <td>...</td>\n      <td>NaN</td>\n      <td>NaN</td>\n      <td>NaN</td>\n      <td>NaN</td>\n      <td>NaN</td>\n      <td>NaN</td>\n      <td>NaN</td>\n      <td>NaN</td>\n      <td>NaN</td>\n      <td>NaN</td>\n    </tr>\n    <tr>\n      <th>user5</th>\n      <td>NaN</td>\n      <td>NaN</td>\n      <td>NaN</td>\n      <td>NaN</td>\n      <td>NaN</td>\n      <td>NaN</td>\n      <td>NaN</td>\n      <td>NaN</td>\n      <td>NaN</td>\n      <td>NaN</td>\n      <td>...</td>\n      <td>NaN</td>\n      <td>NaN</td>\n      <td>NaN</td>\n      <td>NaN</td>\n      <td>NaN</td>\n      <td>NaN</td>\n      <td>NaN</td>\n      <td>NaN</td>\n      <td>NaN</td>\n      <td>NaN</td>\n    </tr>\n    <tr>\n      <th>...</th>\n      <td>...</td>\n      <td>...</td>\n      <td>...</td>\n      <td>...</td>\n      <td>...</td>\n      <td>...</td>\n      <td>...</td>\n      <td>...</td>\n      <td>...</td>\n      <td>...</td>\n      <td>...</td>\n      <td>...</td>\n      <td>...</td>\n      <td>...</td>\n      <td>...</td>\n      <td>...</td>\n      <td>...</td>\n      <td>...</td>\n      <td>...</td>\n      <td>...</td>\n      <td>...</td>\n    </tr>\n    <tr>\n      <th>user667</th>\n      <td>NaN</td>\n      <td>NaN</td>\n      <td>NaN</td>\n      <td>NaN</td>\n      <td>NaN</td>\n      <td>NaN</td>\n      <td>NaN</td>\n      <td>NaN</td>\n      <td>NaN</td>\n      <td>NaN</td>\n      <td>...</td>\n      <td>NaN</td>\n      <td>NaN</td>\n      <td>NaN</td>\n      <td>NaN</td>\n      <td>NaN</td>\n      <td>NaN</td>\n      <td>NaN</td>\n      <td>NaN</td>\n      <td>NaN</td>\n      <td>NaN</td>\n    </tr>\n    <tr>\n      <th>user668</th>\n      <td>NaN</td>\n      <td>NaN</td>\n      <td>NaN</td>\n      <td>NaN</td>\n      <td>NaN</td>\n      <td>NaN</td>\n      <td>NaN</td>\n      <td>NaN</td>\n      <td>NaN</td>\n      <td>NaN</td>\n      <td>...</td>\n      <td>NaN</td>\n      <td>NaN</td>\n      <td>NaN</td>\n      <td>NaN</td>\n      <td>NaN</td>\n      <td>NaN</td>\n      <td>NaN</td>\n      <td>NaN</td>\n      <td>NaN</td>\n      <td>NaN</td>\n    </tr>\n    <tr>\n      <th>user669</th>\n      <td>NaN</td>\n      <td>NaN</td>\n      <td>NaN</td>\n      <td>NaN</td>\n      <td>NaN</td>\n      <td>NaN</td>\n      <td>NaN</td>\n      <td>NaN</td>\n      <td>NaN</td>\n      <td>NaN</td>\n      <td>...</td>\n      <td>NaN</td>\n      <td>NaN</td>\n      <td>NaN</td>\n      <td>NaN</td>\n      <td>NaN</td>\n      <td>NaN</td>\n      <td>NaN</td>\n      <td>NaN</td>\n      <td>NaN</td>\n      <td>NaN</td>\n    </tr>\n    <tr>\n      <th>user670</th>\n      <td>NaN</td>\n      <td>NaN</td>\n      <td>NaN</td>\n      <td>NaN</td>\n      <td>NaN</td>\n      <td>NaN</td>\n      <td>NaN</td>\n      <td>NaN</td>\n      <td>NaN</td>\n      <td>NaN</td>\n      <td>...</td>\n      <td>NaN</td>\n      <td>NaN</td>\n      <td>NaN</td>\n      <td>NaN</td>\n      <td>NaN</td>\n      <td>NaN</td>\n      <td>NaN</td>\n      <td>NaN</td>\n      <td>NaN</td>\n      <td>NaN</td>\n    </tr>\n    <tr>\n      <th>user671</th>\n      <td>NaN</td>\n      <td>NaN</td>\n      <td>NaN</td>\n      <td>NaN</td>\n      <td>NaN</td>\n      <td>NaN</td>\n      <td>NaN</td>\n      <td>NaN</td>\n      <td>NaN</td>\n      <td>NaN</td>\n      <td>...</td>\n      <td>NaN</td>\n      <td>NaN</td>\n      <td>NaN</td>\n      <td>NaN</td>\n      <td>NaN</td>\n      <td>NaN</td>\n      <td>NaN</td>\n      <td>NaN</td>\n      <td>NaN</td>\n      <td>NaN</td>\n    </tr>\n  </tbody>\n</table>\n<p>671 rows × 9066 columns</p>\n</div>"
     },
     "execution_count": 126,
     "metadata": {},
     "output_type": "execute_result"
    }
   ],
   "source": [
    "temp_df = pd.DataFrame(columns=movie_ids, index=user_ids)\n",
    "temp_df"
   ],
   "metadata": {
    "collapsed": false
   }
  },
  {
   "cell_type": "code",
   "execution_count": 128,
   "outputs": [],
   "source": [
    "for row in ratings.iterrows():\n",
    "    user_id, movie_id, rating, _ = row[1]\n",
    "    user_id = \"user\"+str(int(user_id))\n",
    "    movie_id = \"Q\"+str(int(movie_id))\n",
    "    temp_df[movie_id][user_id] = rating"
   ],
   "metadata": {
    "collapsed": false
   }
  },
  {
   "cell_type": "code",
   "execution_count": 129,
   "outputs": [
    {
     "data": {
      "text/plain": "         Q31 Q1029 Q1061 Q1129 Q1172 Q1263 Q1287 Q1293 Q1339 Q1343  ...  \\\nuser1    2.5   3.0   3.0   2.0   4.0   2.0   2.0   2.0   3.5   2.0  ...   \nuser2    NaN   NaN   NaN   NaN   NaN   NaN   NaN   NaN   NaN   NaN  ...   \nuser3    NaN   NaN   NaN   NaN   NaN   NaN   NaN   NaN   NaN   NaN  ...   \nuser4    NaN   NaN   NaN   NaN   NaN   NaN   NaN   NaN   NaN   NaN  ...   \nuser5    NaN   NaN   NaN   NaN   NaN   NaN   NaN   NaN   NaN   NaN  ...   \n...      ...   ...   ...   ...   ...   ...   ...   ...   ...   ...  ...   \nuser667  NaN   NaN   NaN   NaN   NaN   NaN   NaN   NaN   NaN   NaN  ...   \nuser668  NaN   NaN   NaN   NaN   NaN   NaN   NaN   NaN   NaN   NaN  ...   \nuser669  NaN   NaN   NaN   NaN   NaN   NaN   NaN   NaN   NaN   NaN  ...   \nuser670  NaN   NaN   NaN   NaN   NaN   NaN   NaN   NaN   NaN   NaN  ...   \nuser671  NaN   NaN   NaN   NaN   NaN   NaN   NaN   NaN   NaN   NaN  ...   \n\n        Q134528 Q134783 Q137595 Q138204 Q60832 Q64997 Q72380 Q129 Q4736 Q6425  \nuser1       NaN     NaN     NaN     NaN    NaN    NaN    NaN  NaN   NaN   NaN  \nuser2       NaN     NaN     NaN     NaN    NaN    NaN    NaN  NaN   NaN   NaN  \nuser3       NaN     NaN     NaN     NaN    NaN    NaN    NaN  NaN   NaN   NaN  \nuser4       NaN     NaN     NaN     NaN    NaN    NaN    NaN  NaN   NaN   NaN  \nuser5       NaN     NaN     NaN     NaN    NaN    NaN    NaN  NaN   NaN   NaN  \n...         ...     ...     ...     ...    ...    ...    ...  ...   ...   ...  \nuser667     NaN     NaN     NaN     NaN    NaN    NaN    NaN  NaN   NaN   NaN  \nuser668     NaN     NaN     NaN     NaN    NaN    NaN    NaN  NaN   NaN   1.0  \nuser669     NaN     NaN     NaN     NaN    NaN    NaN    NaN  NaN   NaN   NaN  \nuser670     NaN     NaN     NaN     NaN    NaN    NaN    NaN  NaN   NaN   NaN  \nuser671     NaN     NaN     NaN     NaN    NaN    NaN    NaN  NaN   NaN   NaN  \n\n[671 rows x 9066 columns]",
      "text/html": "<div>\n<style scoped>\n    .dataframe tbody tr th:only-of-type {\n        vertical-align: middle;\n    }\n\n    .dataframe tbody tr th {\n        vertical-align: top;\n    }\n\n    .dataframe thead th {\n        text-align: right;\n    }\n</style>\n<table border=\"1\" class=\"dataframe\">\n  <thead>\n    <tr style=\"text-align: right;\">\n      <th></th>\n      <th>Q31</th>\n      <th>Q1029</th>\n      <th>Q1061</th>\n      <th>Q1129</th>\n      <th>Q1172</th>\n      <th>Q1263</th>\n      <th>Q1287</th>\n      <th>Q1293</th>\n      <th>Q1339</th>\n      <th>Q1343</th>\n      <th>...</th>\n      <th>Q134528</th>\n      <th>Q134783</th>\n      <th>Q137595</th>\n      <th>Q138204</th>\n      <th>Q60832</th>\n      <th>Q64997</th>\n      <th>Q72380</th>\n      <th>Q129</th>\n      <th>Q4736</th>\n      <th>Q6425</th>\n    </tr>\n  </thead>\n  <tbody>\n    <tr>\n      <th>user1</th>\n      <td>2.5</td>\n      <td>3.0</td>\n      <td>3.0</td>\n      <td>2.0</td>\n      <td>4.0</td>\n      <td>2.0</td>\n      <td>2.0</td>\n      <td>2.0</td>\n      <td>3.5</td>\n      <td>2.0</td>\n      <td>...</td>\n      <td>NaN</td>\n      <td>NaN</td>\n      <td>NaN</td>\n      <td>NaN</td>\n      <td>NaN</td>\n      <td>NaN</td>\n      <td>NaN</td>\n      <td>NaN</td>\n      <td>NaN</td>\n      <td>NaN</td>\n    </tr>\n    <tr>\n      <th>user2</th>\n      <td>NaN</td>\n      <td>NaN</td>\n      <td>NaN</td>\n      <td>NaN</td>\n      <td>NaN</td>\n      <td>NaN</td>\n      <td>NaN</td>\n      <td>NaN</td>\n      <td>NaN</td>\n      <td>NaN</td>\n      <td>...</td>\n      <td>NaN</td>\n      <td>NaN</td>\n      <td>NaN</td>\n      <td>NaN</td>\n      <td>NaN</td>\n      <td>NaN</td>\n      <td>NaN</td>\n      <td>NaN</td>\n      <td>NaN</td>\n      <td>NaN</td>\n    </tr>\n    <tr>\n      <th>user3</th>\n      <td>NaN</td>\n      <td>NaN</td>\n      <td>NaN</td>\n      <td>NaN</td>\n      <td>NaN</td>\n      <td>NaN</td>\n      <td>NaN</td>\n      <td>NaN</td>\n      <td>NaN</td>\n      <td>NaN</td>\n      <td>...</td>\n      <td>NaN</td>\n      <td>NaN</td>\n      <td>NaN</td>\n      <td>NaN</td>\n      <td>NaN</td>\n      <td>NaN</td>\n      <td>NaN</td>\n      <td>NaN</td>\n      <td>NaN</td>\n      <td>NaN</td>\n    </tr>\n    <tr>\n      <th>user4</th>\n      <td>NaN</td>\n      <td>NaN</td>\n      <td>NaN</td>\n      <td>NaN</td>\n      <td>NaN</td>\n      <td>NaN</td>\n      <td>NaN</td>\n      <td>NaN</td>\n      <td>NaN</td>\n      <td>NaN</td>\n      <td>...</td>\n      <td>NaN</td>\n      <td>NaN</td>\n      <td>NaN</td>\n      <td>NaN</td>\n      <td>NaN</td>\n      <td>NaN</td>\n      <td>NaN</td>\n      <td>NaN</td>\n      <td>NaN</td>\n      <td>NaN</td>\n    </tr>\n    <tr>\n      <th>user5</th>\n      <td>NaN</td>\n      <td>NaN</td>\n      <td>NaN</td>\n      <td>NaN</td>\n      <td>NaN</td>\n      <td>NaN</td>\n      <td>NaN</td>\n      <td>NaN</td>\n      <td>NaN</td>\n      <td>NaN</td>\n      <td>...</td>\n      <td>NaN</td>\n      <td>NaN</td>\n      <td>NaN</td>\n      <td>NaN</td>\n      <td>NaN</td>\n      <td>NaN</td>\n      <td>NaN</td>\n      <td>NaN</td>\n      <td>NaN</td>\n      <td>NaN</td>\n    </tr>\n    <tr>\n      <th>...</th>\n      <td>...</td>\n      <td>...</td>\n      <td>...</td>\n      <td>...</td>\n      <td>...</td>\n      <td>...</td>\n      <td>...</td>\n      <td>...</td>\n      <td>...</td>\n      <td>...</td>\n      <td>...</td>\n      <td>...</td>\n      <td>...</td>\n      <td>...</td>\n      <td>...</td>\n      <td>...</td>\n      <td>...</td>\n      <td>...</td>\n      <td>...</td>\n      <td>...</td>\n      <td>...</td>\n    </tr>\n    <tr>\n      <th>user667</th>\n      <td>NaN</td>\n      <td>NaN</td>\n      <td>NaN</td>\n      <td>NaN</td>\n      <td>NaN</td>\n      <td>NaN</td>\n      <td>NaN</td>\n      <td>NaN</td>\n      <td>NaN</td>\n      <td>NaN</td>\n      <td>...</td>\n      <td>NaN</td>\n      <td>NaN</td>\n      <td>NaN</td>\n      <td>NaN</td>\n      <td>NaN</td>\n      <td>NaN</td>\n      <td>NaN</td>\n      <td>NaN</td>\n      <td>NaN</td>\n      <td>NaN</td>\n    </tr>\n    <tr>\n      <th>user668</th>\n      <td>NaN</td>\n      <td>NaN</td>\n      <td>NaN</td>\n      <td>NaN</td>\n      <td>NaN</td>\n      <td>NaN</td>\n      <td>NaN</td>\n      <td>NaN</td>\n      <td>NaN</td>\n      <td>NaN</td>\n      <td>...</td>\n      <td>NaN</td>\n      <td>NaN</td>\n      <td>NaN</td>\n      <td>NaN</td>\n      <td>NaN</td>\n      <td>NaN</td>\n      <td>NaN</td>\n      <td>NaN</td>\n      <td>NaN</td>\n      <td>1.0</td>\n    </tr>\n    <tr>\n      <th>user669</th>\n      <td>NaN</td>\n      <td>NaN</td>\n      <td>NaN</td>\n      <td>NaN</td>\n      <td>NaN</td>\n      <td>NaN</td>\n      <td>NaN</td>\n      <td>NaN</td>\n      <td>NaN</td>\n      <td>NaN</td>\n      <td>...</td>\n      <td>NaN</td>\n      <td>NaN</td>\n      <td>NaN</td>\n      <td>NaN</td>\n      <td>NaN</td>\n      <td>NaN</td>\n      <td>NaN</td>\n      <td>NaN</td>\n      <td>NaN</td>\n      <td>NaN</td>\n    </tr>\n    <tr>\n      <th>user670</th>\n      <td>NaN</td>\n      <td>NaN</td>\n      <td>NaN</td>\n      <td>NaN</td>\n      <td>NaN</td>\n      <td>NaN</td>\n      <td>NaN</td>\n      <td>NaN</td>\n      <td>NaN</td>\n      <td>NaN</td>\n      <td>...</td>\n      <td>NaN</td>\n      <td>NaN</td>\n      <td>NaN</td>\n      <td>NaN</td>\n      <td>NaN</td>\n      <td>NaN</td>\n      <td>NaN</td>\n      <td>NaN</td>\n      <td>NaN</td>\n      <td>NaN</td>\n    </tr>\n    <tr>\n      <th>user671</th>\n      <td>NaN</td>\n      <td>NaN</td>\n      <td>NaN</td>\n      <td>NaN</td>\n      <td>NaN</td>\n      <td>NaN</td>\n      <td>NaN</td>\n      <td>NaN</td>\n      <td>NaN</td>\n      <td>NaN</td>\n      <td>...</td>\n      <td>NaN</td>\n      <td>NaN</td>\n      <td>NaN</td>\n      <td>NaN</td>\n      <td>NaN</td>\n      <td>NaN</td>\n      <td>NaN</td>\n      <td>NaN</td>\n      <td>NaN</td>\n      <td>NaN</td>\n    </tr>\n  </tbody>\n</table>\n<p>671 rows × 9066 columns</p>\n</div>"
     },
     "execution_count": 129,
     "metadata": {},
     "output_type": "execute_result"
    }
   ],
   "source": [
    "temp_df"
   ],
   "metadata": {
    "collapsed": false
   }
  },
  {
   "cell_type": "code",
   "execution_count": 130,
   "outputs": [],
   "source": [
    "temp_df.to_csv(os.path.join(DATASET_DIR, \"utility_matrix.csv\"), index=True)"
   ],
   "metadata": {
    "collapsed": false
   }
  },
  {
   "cell_type": "code",
   "execution_count": 131,
   "outputs": [
    {
     "ename": "ValueError",
     "evalue": "invalid literal for int() with base 10: '1997-08-20'",
     "output_type": "error",
     "traceback": [
      "\u001B[0;31m---------------------------------------------------------------------------\u001B[0m",
      "\u001B[0;31mValueError\u001B[0m                                Traceback (most recent call last)",
      "Cell \u001B[0;32mIn[131], line 1\u001B[0m\n\u001B[0;32m----> 1\u001B[0m movies_meta\u001B[38;5;241m.\u001B[39mid \u001B[38;5;241m=\u001B[39m \u001B[43mmovies_meta\u001B[49m\u001B[38;5;241;43m.\u001B[39;49m\u001B[43mid\u001B[49m\u001B[38;5;241;43m.\u001B[39;49m\u001B[43mapply\u001B[49m\u001B[43m(\u001B[49m\u001B[38;5;28;43;01mlambda\u001B[39;49;00m\u001B[43m \u001B[49m\u001B[43mx\u001B[49m\u001B[43m:\u001B[49m\u001B[43m \u001B[49m\u001B[38;5;124;43m\"\u001B[39;49m\u001B[38;5;124;43mQ\u001B[39;49m\u001B[38;5;124;43m\"\u001B[39;49m\u001B[38;5;241;43m+\u001B[39;49m\u001B[38;5;28;43mstr\u001B[39;49m\u001B[43m(\u001B[49m\u001B[38;5;28;43mint\u001B[39;49m\u001B[43m(\u001B[49m\u001B[43mx\u001B[49m\u001B[43m)\u001B[49m\u001B[43m)\u001B[49m\u001B[43m)\u001B[49m\n",
      "File \u001B[0;32m/usr/local/lib/python3.11/site-packages/pandas/core/series.py:4771\u001B[0m, in \u001B[0;36mSeries.apply\u001B[0;34m(self, func, convert_dtype, args, **kwargs)\u001B[0m\n\u001B[1;32m   4661\u001B[0m \u001B[38;5;28;01mdef\u001B[39;00m \u001B[38;5;21mapply\u001B[39m(\n\u001B[1;32m   4662\u001B[0m     \u001B[38;5;28mself\u001B[39m,\n\u001B[1;32m   4663\u001B[0m     func: AggFuncType,\n\u001B[0;32m   (...)\u001B[0m\n\u001B[1;32m   4666\u001B[0m     \u001B[38;5;241m*\u001B[39m\u001B[38;5;241m*\u001B[39mkwargs,\n\u001B[1;32m   4667\u001B[0m ) \u001B[38;5;241m-\u001B[39m\u001B[38;5;241m>\u001B[39m DataFrame \u001B[38;5;241m|\u001B[39m Series:\n\u001B[1;32m   4668\u001B[0m \u001B[38;5;250m    \u001B[39m\u001B[38;5;124;03m\"\"\"\u001B[39;00m\n\u001B[1;32m   4669\u001B[0m \u001B[38;5;124;03m    Invoke function on values of Series.\u001B[39;00m\n\u001B[1;32m   4670\u001B[0m \n\u001B[0;32m   (...)\u001B[0m\n\u001B[1;32m   4769\u001B[0m \u001B[38;5;124;03m    dtype: float64\u001B[39;00m\n\u001B[1;32m   4770\u001B[0m \u001B[38;5;124;03m    \"\"\"\u001B[39;00m\n\u001B[0;32m-> 4771\u001B[0m     \u001B[38;5;28;01mreturn\u001B[39;00m \u001B[43mSeriesApply\u001B[49m\u001B[43m(\u001B[49m\u001B[38;5;28;43mself\u001B[39;49m\u001B[43m,\u001B[49m\u001B[43m \u001B[49m\u001B[43mfunc\u001B[49m\u001B[43m,\u001B[49m\u001B[43m \u001B[49m\u001B[43mconvert_dtype\u001B[49m\u001B[43m,\u001B[49m\u001B[43m \u001B[49m\u001B[43margs\u001B[49m\u001B[43m,\u001B[49m\u001B[43m \u001B[49m\u001B[43mkwargs\u001B[49m\u001B[43m)\u001B[49m\u001B[38;5;241;43m.\u001B[39;49m\u001B[43mapply\u001B[49m\u001B[43m(\u001B[49m\u001B[43m)\u001B[49m\n",
      "File \u001B[0;32m/usr/local/lib/python3.11/site-packages/pandas/core/apply.py:1105\u001B[0m, in \u001B[0;36mSeriesApply.apply\u001B[0;34m(self)\u001B[0m\n\u001B[1;32m   1102\u001B[0m     \u001B[38;5;28;01mreturn\u001B[39;00m \u001B[38;5;28mself\u001B[39m\u001B[38;5;241m.\u001B[39mapply_str()\n\u001B[1;32m   1104\u001B[0m \u001B[38;5;66;03m# self.f is Callable\u001B[39;00m\n\u001B[0;32m-> 1105\u001B[0m \u001B[38;5;28;01mreturn\u001B[39;00m \u001B[38;5;28;43mself\u001B[39;49m\u001B[38;5;241;43m.\u001B[39;49m\u001B[43mapply_standard\u001B[49m\u001B[43m(\u001B[49m\u001B[43m)\u001B[49m\n",
      "File \u001B[0;32m/usr/local/lib/python3.11/site-packages/pandas/core/apply.py:1156\u001B[0m, in \u001B[0;36mSeriesApply.apply_standard\u001B[0;34m(self)\u001B[0m\n\u001B[1;32m   1154\u001B[0m     \u001B[38;5;28;01melse\u001B[39;00m:\n\u001B[1;32m   1155\u001B[0m         values \u001B[38;5;241m=\u001B[39m obj\u001B[38;5;241m.\u001B[39mastype(\u001B[38;5;28mobject\u001B[39m)\u001B[38;5;241m.\u001B[39m_values\n\u001B[0;32m-> 1156\u001B[0m         mapped \u001B[38;5;241m=\u001B[39m \u001B[43mlib\u001B[49m\u001B[38;5;241;43m.\u001B[39;49m\u001B[43mmap_infer\u001B[49m\u001B[43m(\u001B[49m\n\u001B[1;32m   1157\u001B[0m \u001B[43m            \u001B[49m\u001B[43mvalues\u001B[49m\u001B[43m,\u001B[49m\n\u001B[1;32m   1158\u001B[0m \u001B[43m            \u001B[49m\u001B[43mf\u001B[49m\u001B[43m,\u001B[49m\n\u001B[1;32m   1159\u001B[0m \u001B[43m            \u001B[49m\u001B[43mconvert\u001B[49m\u001B[38;5;241;43m=\u001B[39;49m\u001B[38;5;28;43mself\u001B[39;49m\u001B[38;5;241;43m.\u001B[39;49m\u001B[43mconvert_dtype\u001B[49m\u001B[43m,\u001B[49m\n\u001B[1;32m   1160\u001B[0m \u001B[43m        \u001B[49m\u001B[43m)\u001B[49m\n\u001B[1;32m   1162\u001B[0m \u001B[38;5;28;01mif\u001B[39;00m \u001B[38;5;28mlen\u001B[39m(mapped) \u001B[38;5;129;01mand\u001B[39;00m \u001B[38;5;28misinstance\u001B[39m(mapped[\u001B[38;5;241m0\u001B[39m], ABCSeries):\n\u001B[1;32m   1163\u001B[0m     \u001B[38;5;66;03m# GH#43986 Need to do list(mapped) in order to get treated as nested\u001B[39;00m\n\u001B[1;32m   1164\u001B[0m     \u001B[38;5;66;03m#  See also GH#25959 regarding EA support\u001B[39;00m\n\u001B[1;32m   1165\u001B[0m     \u001B[38;5;28;01mreturn\u001B[39;00m obj\u001B[38;5;241m.\u001B[39m_constructor_expanddim(\u001B[38;5;28mlist\u001B[39m(mapped), index\u001B[38;5;241m=\u001B[39mobj\u001B[38;5;241m.\u001B[39mindex)\n",
      "File \u001B[0;32m/usr/local/lib/python3.11/site-packages/pandas/_libs/lib.pyx:2918\u001B[0m, in \u001B[0;36mpandas._libs.lib.map_infer\u001B[0;34m()\u001B[0m\n",
      "Cell \u001B[0;32mIn[131], line 1\u001B[0m, in \u001B[0;36m<lambda>\u001B[0;34m(x)\u001B[0m\n\u001B[0;32m----> 1\u001B[0m movies_meta\u001B[38;5;241m.\u001B[39mid \u001B[38;5;241m=\u001B[39m movies_meta\u001B[38;5;241m.\u001B[39mid\u001B[38;5;241m.\u001B[39mapply(\u001B[38;5;28;01mlambda\u001B[39;00m x: \u001B[38;5;124m\"\u001B[39m\u001B[38;5;124mQ\u001B[39m\u001B[38;5;124m\"\u001B[39m\u001B[38;5;241m+\u001B[39m\u001B[38;5;28mstr\u001B[39m(\u001B[38;5;28;43mint\u001B[39;49m\u001B[43m(\u001B[49m\u001B[43mx\u001B[49m\u001B[43m)\u001B[49m))\n",
      "\u001B[0;31mValueError\u001B[0m: invalid literal for int() with base 10: '1997-08-20'"
     ]
    }
   ],
   "source": [
    "movies_meta.id = movies_meta.id.apply(lambda x: \"Q\"+str(int(x)))"
   ],
   "metadata": {
    "collapsed": false
   }
  },
  {
   "cell_type": "code",
   "execution_count": 139,
   "outputs": [
    {
     "name": "stdout",
     "output_type": "stream",
     "text": [
      "1997-08-20\n",
      "2012-09-29\n",
      "2014-01-01\n"
     ]
    }
   ],
   "source": [
    "for val in movies_meta.id:\n",
    "    try:\n",
    "        val1 = int(val)\n",
    "    except:\n",
    "        print(val)\n"
   ],
   "metadata": {
    "collapsed": false
   }
  },
  {
   "cell_type": "code",
   "execution_count": null,
   "outputs": [],
   "source": [],
   "metadata": {
    "collapsed": false
   }
  }
 ],
 "metadata": {
  "kernelspec": {
   "display_name": "Python 3",
   "language": "python",
   "name": "python3"
  },
  "language_info": {
   "codemirror_mode": {
    "name": "ipython",
    "version": 2
   },
   "file_extension": ".py",
   "mimetype": "text/x-python",
   "name": "python",
   "nbconvert_exporter": "python",
   "pygments_lexer": "ipython2",
   "version": "2.7.6"
  }
 },
 "nbformat": 4,
 "nbformat_minor": 0
}
